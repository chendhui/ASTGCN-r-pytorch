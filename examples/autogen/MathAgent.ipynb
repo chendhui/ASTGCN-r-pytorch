{
  "cells": [
    {
      "cell_type": "markdown",
      "id": "bb6538d8-2a5d-4a99-b2c1-7130963e4f7b",
      "metadata": {
        "id": "bb6538d8-2a5d-4a99-b2c1-7130963e4f7b"
      },
      "source": [
        "# Microsoft Autogen Tool Example\n",
        "\n",
        "AgentOps automatically configures itself when it's initialized meaning your agent run data will be tracked and logged to your AgentOps account right away."
      ]
    },
    {
      "cell_type": "markdown",
      "id": "083244fa",
      "metadata": {
        "id": "083244fa"
      },
      "source": [
        "First let's install the required packages"
      ]
    },
    {
      "cell_type": "code",
      "execution_count": 1,
      "id": "9c8104ad",
      "metadata": {
        "id": "9c8104ad",
        "outputId": "757673d5-0a30-46f3-8097-49d5cbfb11fc",
        "colab": {
          "base_uri": "https://localhost:8080/"
        }
      },
      "outputs": [
        {
          "output_type": "stream",
          "name": "stdout",
          "text": [
            "Requirement already satisfied: autogen-agentchat in /usr/local/lib/python3.12/dist-packages (0.7.4)\n",
            "Requirement already satisfied: autogen-core==0.7.4 in /usr/local/lib/python3.12/dist-packages (from autogen-agentchat) (0.7.4)\n",
            "Requirement already satisfied: jsonref~=1.1.0 in /usr/local/lib/python3.12/dist-packages (from autogen-core==0.7.4->autogen-agentchat) (1.1.0)\n",
            "Requirement already satisfied: opentelemetry-api>=1.34.1 in /usr/local/lib/python3.12/dist-packages (from autogen-core==0.7.4->autogen-agentchat) (1.36.0)\n",
            "Requirement already satisfied: pillow>=11.0.0 in /usr/local/lib/python3.12/dist-packages (from autogen-core==0.7.4->autogen-agentchat) (11.3.0)\n",
            "Requirement already satisfied: protobuf~=5.29.3 in /usr/local/lib/python3.12/dist-packages (from autogen-core==0.7.4->autogen-agentchat) (5.29.5)\n",
            "Requirement already satisfied: pydantic<3.0.0,>=2.10.0 in /usr/local/lib/python3.12/dist-packages (from autogen-core==0.7.4->autogen-agentchat) (2.11.7)\n",
            "Requirement already satisfied: typing-extensions>=4.0.0 in /usr/local/lib/python3.12/dist-packages (from autogen-core==0.7.4->autogen-agentchat) (4.15.0)\n",
            "Requirement already satisfied: importlib-metadata<8.8.0,>=6.0 in /usr/local/lib/python3.12/dist-packages (from opentelemetry-api>=1.34.1->autogen-core==0.7.4->autogen-agentchat) (8.7.0)\n",
            "Requirement already satisfied: annotated-types>=0.6.0 in /usr/local/lib/python3.12/dist-packages (from pydantic<3.0.0,>=2.10.0->autogen-core==0.7.4->autogen-agentchat) (0.7.0)\n",
            "Requirement already satisfied: pydantic-core==2.33.2 in /usr/local/lib/python3.12/dist-packages (from pydantic<3.0.0,>=2.10.0->autogen-core==0.7.4->autogen-agentchat) (2.33.2)\n",
            "Requirement already satisfied: typing-inspection>=0.4.0 in /usr/local/lib/python3.12/dist-packages (from pydantic<3.0.0,>=2.10.0->autogen-core==0.7.4->autogen-agentchat) (0.4.1)\n",
            "Requirement already satisfied: zipp>=3.20 in /usr/local/lib/python3.12/dist-packages (from importlib-metadata<8.8.0,>=6.0->opentelemetry-api>=1.34.1->autogen-core==0.7.4->autogen-agentchat) (3.23.0)\n",
            "Requirement already satisfied: autogen-ext[openai] in /usr/local/lib/python3.12/dist-packages (0.7.4)\n",
            "Requirement already satisfied: autogen-core==0.7.4 in /usr/local/lib/python3.12/dist-packages (from autogen-ext[openai]) (0.7.4)\n",
            "Requirement already satisfied: aiofiles in /usr/local/lib/python3.12/dist-packages (from autogen-ext[openai]) (24.1.0)\n",
            "Requirement already satisfied: openai>=1.93 in /usr/local/lib/python3.12/dist-packages (from autogen-ext[openai]) (1.101.0)\n",
            "Requirement already satisfied: tiktoken>=0.8.0 in /usr/local/lib/python3.12/dist-packages (from autogen-ext[openai]) (0.11.0)\n",
            "Requirement already satisfied: jsonref~=1.1.0 in /usr/local/lib/python3.12/dist-packages (from autogen-core==0.7.4->autogen-ext[openai]) (1.1.0)\n",
            "Requirement already satisfied: opentelemetry-api>=1.34.1 in /usr/local/lib/python3.12/dist-packages (from autogen-core==0.7.4->autogen-ext[openai]) (1.36.0)\n",
            "Requirement already satisfied: pillow>=11.0.0 in /usr/local/lib/python3.12/dist-packages (from autogen-core==0.7.4->autogen-ext[openai]) (11.3.0)\n",
            "Requirement already satisfied: protobuf~=5.29.3 in /usr/local/lib/python3.12/dist-packages (from autogen-core==0.7.4->autogen-ext[openai]) (5.29.5)\n",
            "Requirement already satisfied: pydantic<3.0.0,>=2.10.0 in /usr/local/lib/python3.12/dist-packages (from autogen-core==0.7.4->autogen-ext[openai]) (2.11.7)\n",
            "Requirement already satisfied: typing-extensions>=4.0.0 in /usr/local/lib/python3.12/dist-packages (from autogen-core==0.7.4->autogen-ext[openai]) (4.15.0)\n",
            "Requirement already satisfied: anyio<5,>=3.5.0 in /usr/local/lib/python3.12/dist-packages (from openai>=1.93->autogen-ext[openai]) (4.10.0)\n",
            "Requirement already satisfied: distro<2,>=1.7.0 in /usr/local/lib/python3.12/dist-packages (from openai>=1.93->autogen-ext[openai]) (1.9.0)\n",
            "Requirement already satisfied: httpx<1,>=0.23.0 in /usr/local/lib/python3.12/dist-packages (from openai>=1.93->autogen-ext[openai]) (0.28.1)\n",
            "Requirement already satisfied: jiter<1,>=0.4.0 in /usr/local/lib/python3.12/dist-packages (from openai>=1.93->autogen-ext[openai]) (0.10.0)\n",
            "Requirement already satisfied: sniffio in /usr/local/lib/python3.12/dist-packages (from openai>=1.93->autogen-ext[openai]) (1.3.1)\n",
            "Requirement already satisfied: tqdm>4 in /usr/local/lib/python3.12/dist-packages (from openai>=1.93->autogen-ext[openai]) (4.67.1)\n",
            "Requirement already satisfied: regex>=2022.1.18 in /usr/local/lib/python3.12/dist-packages (from tiktoken>=0.8.0->autogen-ext[openai]) (2024.11.6)\n",
            "Requirement already satisfied: requests>=2.26.0 in /usr/local/lib/python3.12/dist-packages (from tiktoken>=0.8.0->autogen-ext[openai]) (2.32.4)\n",
            "Requirement already satisfied: idna>=2.8 in /usr/local/lib/python3.12/dist-packages (from anyio<5,>=3.5.0->openai>=1.93->autogen-ext[openai]) (3.10)\n",
            "Requirement already satisfied: certifi in /usr/local/lib/python3.12/dist-packages (from httpx<1,>=0.23.0->openai>=1.93->autogen-ext[openai]) (2025.8.3)\n",
            "Requirement already satisfied: httpcore==1.* in /usr/local/lib/python3.12/dist-packages (from httpx<1,>=0.23.0->openai>=1.93->autogen-ext[openai]) (1.0.9)\n",
            "Requirement already satisfied: h11>=0.16 in /usr/local/lib/python3.12/dist-packages (from httpcore==1.*->httpx<1,>=0.23.0->openai>=1.93->autogen-ext[openai]) (0.16.0)\n",
            "Requirement already satisfied: importlib-metadata<8.8.0,>=6.0 in /usr/local/lib/python3.12/dist-packages (from opentelemetry-api>=1.34.1->autogen-core==0.7.4->autogen-ext[openai]) (8.7.0)\n",
            "Requirement already satisfied: annotated-types>=0.6.0 in /usr/local/lib/python3.12/dist-packages (from pydantic<3.0.0,>=2.10.0->autogen-core==0.7.4->autogen-ext[openai]) (0.7.0)\n",
            "Requirement already satisfied: pydantic-core==2.33.2 in /usr/local/lib/python3.12/dist-packages (from pydantic<3.0.0,>=2.10.0->autogen-core==0.7.4->autogen-ext[openai]) (2.33.2)\n",
            "Requirement already satisfied: typing-inspection>=0.4.0 in /usr/local/lib/python3.12/dist-packages (from pydantic<3.0.0,>=2.10.0->autogen-core==0.7.4->autogen-ext[openai]) (0.4.1)\n",
            "Requirement already satisfied: charset_normalizer<4,>=2 in /usr/local/lib/python3.12/dist-packages (from requests>=2.26.0->tiktoken>=0.8.0->autogen-ext[openai]) (3.4.3)\n",
            "Requirement already satisfied: urllib3<3,>=1.21.1 in /usr/local/lib/python3.12/dist-packages (from requests>=2.26.0->tiktoken>=0.8.0->autogen-ext[openai]) (2.5.0)\n",
            "Requirement already satisfied: zipp>=3.20 in /usr/local/lib/python3.12/dist-packages (from importlib-metadata<8.8.0,>=6.0->opentelemetry-api>=1.34.1->autogen-core==0.7.4->autogen-ext[openai]) (3.23.0)\n",
            "Requirement already satisfied: agentops in /usr/local/lib/python3.12/dist-packages (0.4.21)\n",
            "Requirement already satisfied: aiohttp<4.0.0,>=3.8.0 in /usr/local/lib/python3.12/dist-packages (from agentops) (3.12.15)\n",
            "Requirement already satisfied: httpx<0.29.0,>=0.24.0 in /usr/local/lib/python3.12/dist-packages (from agentops) (0.28.1)\n",
            "Requirement already satisfied: opentelemetry-api>1.29.0 in /usr/local/lib/python3.12/dist-packages (from agentops) (1.36.0)\n",
            "Requirement already satisfied: opentelemetry-exporter-otlp-proto-http>1.29.0 in /usr/local/lib/python3.12/dist-packages (from agentops) (1.36.0)\n",
            "Requirement already satisfied: opentelemetry-instrumentation>=0.50b0 in /usr/local/lib/python3.12/dist-packages (from agentops) (0.57b0)\n",
            "Requirement already satisfied: opentelemetry-sdk>1.29.0 in /usr/local/lib/python3.12/dist-packages (from agentops) (1.36.0)\n",
            "Requirement already satisfied: opentelemetry-semantic-conventions>=0.50b0 in /usr/local/lib/python3.12/dist-packages (from agentops) (0.57b0)\n",
            "Requirement already satisfied: ordered-set<5.0.0,>=4.0.0 in /usr/local/lib/python3.12/dist-packages (from agentops) (4.1.0)\n",
            "Requirement already satisfied: packaging<25.0,>=21.0 in /usr/local/lib/python3.12/dist-packages (from agentops) (24.2)\n",
            "Requirement already satisfied: psutil<7.0.1,>=5.9.8 in /usr/local/lib/python3.12/dist-packages (from agentops) (7.0.0)\n",
            "Requirement already satisfied: pyyaml<7.0,>=5.3 in /usr/local/lib/python3.12/dist-packages (from agentops) (6.0.2)\n",
            "Requirement already satisfied: requests<3.0.0,>=2.0.0 in /usr/local/lib/python3.12/dist-packages (from agentops) (2.32.4)\n",
            "Requirement already satisfied: termcolor<2.5.0,>=2.3.0 in /usr/local/lib/python3.12/dist-packages (from agentops) (2.4.0)\n",
            "Requirement already satisfied: wrapt<2.0.0,>=1.0.0 in /usr/local/lib/python3.12/dist-packages (from agentops) (1.17.3)\n",
            "Requirement already satisfied: aiohappyeyeballs>=2.5.0 in /usr/local/lib/python3.12/dist-packages (from aiohttp<4.0.0,>=3.8.0->agentops) (2.6.1)\n",
            "Requirement already satisfied: aiosignal>=1.4.0 in /usr/local/lib/python3.12/dist-packages (from aiohttp<4.0.0,>=3.8.0->agentops) (1.4.0)\n",
            "Requirement already satisfied: attrs>=17.3.0 in /usr/local/lib/python3.12/dist-packages (from aiohttp<4.0.0,>=3.8.0->agentops) (25.3.0)\n",
            "Requirement already satisfied: frozenlist>=1.1.1 in /usr/local/lib/python3.12/dist-packages (from aiohttp<4.0.0,>=3.8.0->agentops) (1.7.0)\n",
            "Requirement already satisfied: multidict<7.0,>=4.5 in /usr/local/lib/python3.12/dist-packages (from aiohttp<4.0.0,>=3.8.0->agentops) (6.6.4)\n",
            "Requirement already satisfied: propcache>=0.2.0 in /usr/local/lib/python3.12/dist-packages (from aiohttp<4.0.0,>=3.8.0->agentops) (0.3.2)\n",
            "Requirement already satisfied: yarl<2.0,>=1.17.0 in /usr/local/lib/python3.12/dist-packages (from aiohttp<4.0.0,>=3.8.0->agentops) (1.20.1)\n",
            "Requirement already satisfied: anyio in /usr/local/lib/python3.12/dist-packages (from httpx<0.29.0,>=0.24.0->agentops) (4.10.0)\n",
            "Requirement already satisfied: certifi in /usr/local/lib/python3.12/dist-packages (from httpx<0.29.0,>=0.24.0->agentops) (2025.8.3)\n",
            "Requirement already satisfied: httpcore==1.* in /usr/local/lib/python3.12/dist-packages (from httpx<0.29.0,>=0.24.0->agentops) (1.0.9)\n",
            "Requirement already satisfied: idna in /usr/local/lib/python3.12/dist-packages (from httpx<0.29.0,>=0.24.0->agentops) (3.10)\n",
            "Requirement already satisfied: h11>=0.16 in /usr/local/lib/python3.12/dist-packages (from httpcore==1.*->httpx<0.29.0,>=0.24.0->agentops) (0.16.0)\n",
            "Requirement already satisfied: importlib-metadata<8.8.0,>=6.0 in /usr/local/lib/python3.12/dist-packages (from opentelemetry-api>1.29.0->agentops) (8.7.0)\n",
            "Requirement already satisfied: typing-extensions>=4.5.0 in /usr/local/lib/python3.12/dist-packages (from opentelemetry-api>1.29.0->agentops) (4.15.0)\n",
            "Requirement already satisfied: googleapis-common-protos~=1.52 in /usr/local/lib/python3.12/dist-packages (from opentelemetry-exporter-otlp-proto-http>1.29.0->agentops) (1.70.0)\n",
            "Requirement already satisfied: opentelemetry-exporter-otlp-proto-common==1.36.0 in /usr/local/lib/python3.12/dist-packages (from opentelemetry-exporter-otlp-proto-http>1.29.0->agentops) (1.36.0)\n",
            "Requirement already satisfied: opentelemetry-proto==1.36.0 in /usr/local/lib/python3.12/dist-packages (from opentelemetry-exporter-otlp-proto-http>1.29.0->agentops) (1.36.0)\n",
            "Requirement already satisfied: protobuf<7.0,>=5.0 in /usr/local/lib/python3.12/dist-packages (from opentelemetry-proto==1.36.0->opentelemetry-exporter-otlp-proto-http>1.29.0->agentops) (5.29.5)\n",
            "Requirement already satisfied: charset_normalizer<4,>=2 in /usr/local/lib/python3.12/dist-packages (from requests<3.0.0,>=2.0.0->agentops) (3.4.3)\n",
            "Requirement already satisfied: urllib3<3,>=1.21.1 in /usr/local/lib/python3.12/dist-packages (from requests<3.0.0,>=2.0.0->agentops) (2.5.0)\n",
            "Requirement already satisfied: zipp>=3.20 in /usr/local/lib/python3.12/dist-packages (from importlib-metadata<8.8.0,>=6.0->opentelemetry-api>1.29.0->agentops) (3.23.0)\n",
            "Requirement already satisfied: sniffio>=1.1 in /usr/local/lib/python3.12/dist-packages (from anyio->httpx<0.29.0,>=0.24.0->agentops) (1.3.1)\n",
            "Requirement already satisfied: python-dotenv in /usr/local/lib/python3.12/dist-packages (1.1.1)\n"
          ]
        }
      ],
      "source": [
        "%pip install -U autogen-agentchat\n",
        "%pip install -U \"autogen-ext[openai]\"\n",
        "%pip install -U agentops\n",
        "%pip install -U python-dotenv"
      ]
    },
    {
      "cell_type": "markdown",
      "id": "cc44e459",
      "metadata": {
        "id": "cc44e459"
      },
      "source": [
        "Then import them"
      ]
    },
    {
      "cell_type": "code",
      "execution_count": 2,
      "id": "7672f591",
      "metadata": {
        "id": "7672f591"
      },
      "outputs": [],
      "source": [
        "from typing import Annotated, Literal\n",
        "import asyncio\n",
        "import os\n",
        "from dotenv import load_dotenv\n",
        "from IPython.core.error import (\n",
        "    StdinNotImplementedError,\n",
        ")\n",
        "\n",
        "import agentops\n",
        "\n",
        "from autogen_agentchat.agents import AssistantAgent\n",
        "from autogen_ext.models.openai import OpenAIChatCompletionClient\n",
        "from autogen_agentchat.messages import TextMessage"
      ]
    },
    {
      "cell_type": "markdown",
      "id": "24f8bd70",
      "metadata": {
        "id": "24f8bd70"
      },
      "source": [
        "Next, we'll set our API keys. There are several ways to do this, the code below is just the most foolproof way for the purposes of this notebook. It accounts for both users who use environment variables and those who just want to set the API Key here in this notebook.\n",
        "\n",
        "[Get an AgentOps API key](https://agentops.ai/settings/projects)\n",
        "\n",
        "1. Create an environment variable in a .env file or other method. By default, the AgentOps `init()` function will look for an environment variable named `AGENTOPS_API_KEY`. Or...\n",
        "\n",
        "2. Replace `<your_agentops_key>` below and pass in the optional `api_key` parameter to the AgentOps `init(api_key=...)` function. Remember not to commit your API key to a public repo!"
      ]
    },
    {
      "cell_type": "code",
      "execution_count": 3,
      "id": "9eeaef34",
      "metadata": {
        "id": "9eeaef34"
      },
      "outputs": [],
      "source": [
        "load_dotenv()\n",
        "os.environ[\"AGENTOPS_API_KEY\"] = os.getenv(\"AGENTOPS_API_KEY\", \"f3e5e93d-712e-4894-8fb0-c2621f35d1c3\")\n",
        "os.environ[\"OPENAI_API_KEY\"] = os.getenv(\"OPENAI_API_KEY\", \"your_openai_api_key_here\")"
      ]
    },
    {
      "cell_type": "code",
      "execution_count": 4,
      "id": "d93f2339-7b99-4cf1-9232-c24faba49c7b",
      "metadata": {
        "id": "d93f2339-7b99-4cf1-9232-c24faba49c7b",
        "outputId": "06a97418-253a-48a2-d276-61e450cb6c91",
        "colab": {
          "base_uri": "https://localhost:8080/"
        }
      },
      "outputs": [
        {
          "output_type": "stream",
          "name": "stderr",
          "text": [
            "🖇 AgentOps: [OPENAI INSTRUMENTOR] Error setting up OpenAI streaming wrappers: No module named 'openai.resources.beta.chat'\n",
            "🖇 AgentOps: \u001b[34mSession Replay for Microsoft Autogen Tool Example trace: https://app.agentops.ai/sessions?trace_id=ed68b7af6e72b0076fe7ca10938675ec\u001b[0m\n"
          ]
        }
      ],
      "source": [
        "agentops.init(auto_start_session=False)\n",
        "tracer = agentops.start_trace(\n",
        "    trace_name=\"Microsoft Autogen Tool Example\", tags=[\"autogen-tool\", \"microsoft-autogen\", \"agentops-example\"]\n",
        ")"
      ]
    },
    {
      "cell_type": "markdown",
      "id": "7858f0f6-9aca-4cdb-a514-9fbf7e353d50",
      "metadata": {
        "id": "7858f0f6-9aca-4cdb-a514-9fbf7e353d50"
      },
      "source": [
        "AG2 will now start automatically tracking\n",
        "\n",
        "* LLM prompts and completions\n",
        "* Token usage and costs\n",
        "* Agent names and actions\n",
        "* Correspondence between agents\n",
        "* Tool usage\n",
        "* Errors"
      ]
    },
    {
      "cell_type": "markdown",
      "id": "dc592637",
      "metadata": {
        "id": "dc592637"
      },
      "source": [
        "# Tool Example\n",
        "AgentOps tracks when AG2 agents use tools. You can find more information on this example in [tool-use.ipynb](https://docs.ag2.ai/docs/tutorial/tool-use#tool-use)"
      ]
    },
    {
      "cell_type": "code",
      "execution_count": 5,
      "id": "9e4dfe37-85e0-4035-a314-3459c6e378c4",
      "metadata": {
        "id": "9e4dfe37-85e0-4035-a314-3459c6e378c4",
        "outputId": "e0ad224b-c7ee-4242-a30e-a9c59560881b",
        "colab": {
          "base_uri": "https://localhost:8080/"
        }
      },
      "outputs": [
        {
          "output_type": "stream",
          "name": "stderr",
          "text": [
            "\u001b[31;1m🖇 AgentOps: [OPENAI WRAPPER] Error in async_chat_completion_stream_wrapper: Error code: 401 - {'error': {'message': 'Incorrect API key provided: your_ope************here. You can find your API key at https://platform.openai.com/account/api-keys.', 'type': 'invalid_request_error', 'param': None, 'code': 'invalid_api_key'}}\u001b[0m\n"
          ]
        },
        {
          "output_type": "stream",
          "name": "stdout",
          "text": [
            "User Task: What is (1423 - 123) / 3 + (32 + 23) * 5?\n",
            "An error occurred: Error code: 401 - {'error': {'message': 'Incorrect API key provided: your_ope************here. You can find your API key at https://platform.openai.com/account/api-keys.', 'type': 'invalid_request_error', 'param': None, 'code': 'invalid_api_key'}}\n"
          ]
        },
        {
          "output_type": "stream",
          "name": "stderr",
          "text": [
            "\u001b[31;1m🖇 AgentOps: [agentops.InternalSpanProcessor] Error uploading logfile: Upload failed: 401\u001b[0m\n",
            "🖇 AgentOps: \u001b[34mSession Replay for Microsoft Autogen Tool Example.session trace: https://app.agentops.ai/sessions?trace_id=ed68b7af6e72b0076fe7ca10938675ec\u001b[0m\n"
          ]
        }
      ],
      "source": [
        "# Define model and API key\n",
        "model_name = \"gpt-4-turbo\"\n",
        "api_key = os.getenv(\"OPENAI_API_KEY\")\n",
        "\n",
        "# Create the model client\n",
        "model_client = OpenAIChatCompletionClient(model=model_name, api_key=api_key, seed=42, temperature=0)\n",
        "\n",
        "Operator = Literal[\"+\", \"-\", \"*\", \"/\"]\n",
        "\n",
        "\n",
        "def calculator(a: int, b: int, operator: Annotated[Operator, \"operator\"]) -> int:\n",
        "    if operator == \"+\":\n",
        "        return a + b\n",
        "    elif operator == \"-\":\n",
        "        return a - b\n",
        "    elif operator == \"*\":\n",
        "        return a * b\n",
        "    elif operator == \"/\":\n",
        "        return int(a / b)\n",
        "    else:\n",
        "        raise ValueError(\"Invalid operator\")\n",
        "\n",
        "\n",
        "async def main():\n",
        "    assistant = AssistantAgent(\n",
        "        name=\"Assistant\",\n",
        "        system_message=\"You are a helpful AI assistant. You can help with simple calculations. Return 'TERMINATE' when the task is done.\",\n",
        "        model_client=model_client,\n",
        "        tools=[calculator],\n",
        "        reflect_on_tool_use=True,\n",
        "    )\n",
        "\n",
        "    initial_task_message = \"What is (1423 - 123) / 3 + (32 + 23) * 5?\"\n",
        "    print(f\"User Task: {initial_task_message}\")\n",
        "\n",
        "    try:\n",
        "        from autogen_core import CancellationToken\n",
        "\n",
        "        response = await assistant.on_messages(\n",
        "            [TextMessage(content=initial_task_message, source=\"user\")], CancellationToken()\n",
        "        )\n",
        "\n",
        "        final_response_message = response.chat_message\n",
        "        if final_response_message:\n",
        "            print(f\"Assistant: {final_response_message.to_text()}\")\n",
        "        else:\n",
        "            print(\"Assistant did not provide a final message.\")\n",
        "\n",
        "        agentops.end_trace(tracer, end_state=\"Success\")\n",
        "\n",
        "    except StdinNotImplementedError:\n",
        "        print(\"StdinNotImplementedError: This typically happens in non-interactive environments.\")\n",
        "        agentops.end_trace(tracer, end_state=\"Indeterminate\")\n",
        "    except Exception as e:\n",
        "        print(f\"An error occurred: {e}\")\n",
        "        agentops.end_trace(tracer, end_state=\"Error\")\n",
        "    finally:\n",
        "        await model_client.close()\n",
        "\n",
        "\n",
        "if __name__ == \"__main__\":\n",
        "    try:\n",
        "        loop = asyncio.get_running_loop()\n",
        "    except RuntimeError:\n",
        "        loop = None\n",
        "\n",
        "    if loop and loop.is_running():\n",
        "        import nest_asyncio\n",
        "\n",
        "        nest_asyncio.apply()\n",
        "        asyncio.run(main())\n",
        "    else:\n",
        "        asyncio.run(main())"
      ]
    },
    {
      "cell_type": "markdown",
      "id": "f67b0305-1247-489e-b1b0-829127af76d3",
      "metadata": {
        "id": "f67b0305-1247-489e-b1b0-829127af76d3"
      },
      "source": [
        "You can see your run in action at [app.agentops.ai](app.agentops.ai). In this example, the AgentOps dashboard will show:\n",
        "\n",
        "* Agents talking to each other\n",
        "* Each use of the `calculator` tool\n",
        "* Each call to OpenAI for LLM use"
      ]
    }
  ],
  "metadata": {
    "kernelspec": {
      "display_name": "agentops (3.11.11)",
      "language": "python",
      "name": "python3"
    },
    "language_info": {
      "codemirror_mode": {
        "name": "ipython",
        "version": 3
      },
      "file_extension": ".py",
      "mimetype": "text/x-python",
      "name": "python",
      "nbconvert_exporter": "python",
      "pygments_lexer": "ipython3",
      "version": "3.11.11"
    },
    "colab": {
      "provenance": []
    }
  },
  "nbformat": 4,
  "nbformat_minor": 5
}